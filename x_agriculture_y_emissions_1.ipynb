{
 "cells": [
  {
   "cell_type": "code",
   "execution_count": 1,
   "id": "dcd41fd0",
   "metadata": {},
   "outputs": [],
   "source": [
    "# Necessary dependencies:\n",
    "# Pandas, Numpy, Spacy\n",
    "# Spacy en_core_web_lg\n",
    "# python -m spacy download en_core_web_lg\n",
    "\n",
    "import pandas as pd \n",
    "import numpy\n",
    "import spacy\n"
   ]
  },
  {
   "cell_type": "code",
   "execution_count": 7,
   "id": "30928c64",
   "metadata": {},
   "outputs": [],
   "source": [
    "nlp = spacy.load('en_core_web_lg')\n",
    "products = pd.read_csv('shared_data_read_only/Crop Production.csv')\n",
    "emissions = ['buffalo meat', 'beef cow meat', 'chicken meat', 'eggs', 'cereal', 'goat meat', 'pig meat pork', 'sheep meat lamb', 'buffalo milk', 'camel milk', 'cow milk cows milk', 'goat milk', 'sheep milk', 'rice vegetables fruits roots beans seeds' ]"
   ]
  },
  {
   "cell_type": "code",
   "execution_count": 3,
   "id": "0d36e7e7",
   "metadata": {},
   "outputs": [],
   "source": [
    "products = products.drop_duplicates(subset='Item')\n",
    "productset = products.iloc[:,3].to_numpy()\n",
    "\n",
    "correlate = dict() \n"
   ]
  },
  {
   "cell_type": "code",
   "execution_count": 5,
   "id": "20b82c7f",
   "metadata": {},
   "outputs": [
    {
     "name": "stderr",
     "output_type": "stream",
     "text": [
      "/opt/tljh/user/lib/python3.7/site-packages/ipykernel_launcher.py:11: UserWarning: [W008] Evaluating Doc.similarity based on empty vectors.\n",
      "  # This is added back by InteractiveShellApp.init_path()\n"
     ]
    },
    {
     "name": "stdout",
     "output_type": "stream",
     "text": [
      "{'Apples': 'rice vegetables fruits roots beans seeds', 'Apricots': 'rice vegetables fruits roots beans seeds', 'Barley': 'rice vegetables fruits roots beans seeds', 'Beans, dry': 'rice vegetables fruits roots beans seeds', 'Beef and Buffalo Meat': 'buffalo meat', 'Beer of barley': 'rice vegetables fruits roots beans seeds', 'Berries nes': 'rice vegetables fruits roots beans seeds', 'Butter and Ghee': 'goat milk', 'Butter, cow milk': 'cow milk cows milk', 'Cabbages and other brassicas': 'rice vegetables fruits roots beans seeds', 'Carrots and turnips': 'rice vegetables fruits roots beans seeds', 'Cauliflowers and broccoli': 'rice vegetables fruits roots beans seeds', 'Cereals nes': 'cereal', 'Cereals, Total': 'cereal', 'Cheese (All Kinds)': 'chicken meat', 'Cheese, whole cow milk': 'goat milk', 'Cherries': 'rice vegetables fruits roots beans seeds', 'Cherries, sour': 'rice vegetables fruits roots beans seeds', 'Cucumbers and gherkins': 'rice vegetables fruits roots beans seeds', 'Eggs Primary': 'eggs', 'Eggs, hen, in shell': 'eggs', 'Eggs, other bird, in shell': 'eggs', 'Fat, cattle': 'sheep milk', 'Fat, goats': 'sheep milk', 'Fat, pigs': 'pig meat pork', 'Fat, sheep': 'sheep milk', 'Figs': 'rice vegetables fruits roots beans seeds', 'Fruit Primary': 'rice vegetables fruits roots beans seeds', 'Fruit, fresh nes': 'rice vegetables fruits roots beans seeds', 'Fruit, tropical fresh nes': 'rice vegetables fruits roots beans seeds', 'Garlic': 'rice vegetables fruits roots beans seeds', 'Grapes': 'rice vegetables fruits roots beans seeds', 'Hazelnuts, with shell': 'rice vegetables fruits roots beans seeds', 'Hides, cattle, fresh': 'sheep milk', 'Honey, natural': 'rice vegetables fruits roots beans seeds', 'Lentils': 'rice vegetables fruits roots beans seeds', 'Linseed': 'rice vegetables fruits roots beans seeds', 'Maize': 'rice vegetables fruits roots beans seeds', 'Margarine, short': 'goat milk', 'Meat, Poultry': 'chicken meat', 'Meat, Total': 'beef cow meat', 'Meat, cattle': 'beef cow meat', 'Meat, chicken': 'chicken meat', 'Meat, goat': 'goat meat', 'Meat, pig': 'pig meat pork', 'Meat, sheep': 'sheep meat lamb', 'Milk, Total': 'cow milk cows milk', 'Milk, skimmed cow': 'cow milk cows milk', 'Milk, whole fresh cow': 'cow milk cows milk', 'Milk, whole fresh goat': 'goat milk', 'Milk, whole fresh sheep': 'sheep milk', 'Molasses': 'rice vegetables fruits roots beans seeds', 'Mushrooms and truffles': 'rice vegetables fruits roots beans seeds', 'Oats': 'cereal', 'Offals, edible, cattle': 'sheep milk', 'Offals, edible, goats': 'sheep milk', 'Offals, pigs, edible': 'pig meat pork', 'Offals, sheep,edible': 'sheep milk', 'Oil, sunflower': 'rice vegetables fruits roots beans seeds', 'Oilcrops, Cake Equivalent': 'goat milk', 'Oilcrops, Oil Equivalent': 'rice vegetables fruits roots beans seeds', 'Onions, dry': 'rice vegetables fruits roots beans seeds', 'Peaches and nectarines': 'rice vegetables fruits roots beans seeds', 'Pears': 'rice vegetables fruits roots beans seeds', 'Peas, dry': 'rice vegetables fruits roots beans seeds', 'Peas, green': 'rice vegetables fruits roots beans seeds', 'Plums and sloes': 'rice vegetables fruits roots beans seeds', 'Potatoes': 'rice vegetables fruits roots beans seeds', 'Pulses nes': 'rice vegetables fruits roots beans seeds', 'Pulses, Total': 'rice vegetables fruits roots beans seeds', 'Quinces': '', 'Roots and Tubers, Total': 'rice vegetables fruits roots beans seeds', 'Rye': 'cereal', 'Sheep and Goat Meat': 'goat meat', 'Skins, goat, fresh': 'goat meat', 'Skins, sheep, fresh': 'sheep meat lamb', 'Sugar Crops Primary': 'rice vegetables fruits roots beans seeds', 'Sugar Raw Centrifugal': 'rice vegetables fruits roots beans seeds', 'Sugar beet': 'rice vegetables fruits roots beans seeds', 'Tobacco, unmanufactured': 'rice vegetables fruits roots beans seeds', 'Tomatoes': 'rice vegetables fruits roots beans seeds', 'Treenuts, Total': 'sheep milk', 'Vegetables Primary': 'rice vegetables fruits roots beans seeds', 'Vegetables, fresh nes': 'rice vegetables fruits roots beans seeds', 'Walnuts, with shell': 'rice vegetables fruits roots beans seeds', 'Watermelons': 'rice vegetables fruits roots beans seeds', 'Wheat': 'rice vegetables fruits roots beans seeds', 'Wine': 'goat meat', 'Wool, greasy': 'sheep meat lamb', 'Almonds, with shell': 'rice vegetables fruits roots beans seeds', 'Anise, badian, fennel, coriander': 'rice vegetables fruits roots beans seeds', 'Butter and ghee, sheep milk': 'goat milk', 'Cheese, goat milk': 'goat milk', 'Cheese, sheep milk': 'sheep milk', 'Citrus Fruit, Total': 'rice vegetables fruits roots beans seeds', 'Cotton lint': 'camel milk', 'Cottonseed': 'cow milk cows milk', 'Fat, camels': 'camel milk', 'Fruit, citrus nes': 'rice vegetables fruits roots beans seeds', 'Fruit, stone nes': 'rice vegetables fruits roots beans seeds', 'Meat, camel': 'goat meat', 'Meat, game': 'chicken meat', 'Melons, other (inc.cantaloupes)': 'rice vegetables fruits roots beans seeds', 'Milk, whole fresh camel': 'camel milk', 'Millet': 'rice vegetables fruits roots beans seeds', 'Nuts nes': 'goat milk', 'Offals, edible, camels': 'camel milk', 'Oil, cottonseed': 'rice vegetables fruits roots beans seeds', 'Oil, linseed': 'rice vegetables fruits roots beans seeds', 'Oil, olive, virgin': 'rice vegetables fruits roots beans seeds', 'Oil, sesame': 'rice vegetables fruits roots beans seeds', 'Olives': 'rice vegetables fruits roots beans seeds', 'Oranges': 'rice vegetables fruits roots beans seeds', 'Pistachios': 'rice vegetables fruits roots beans seeds', 'Rice, paddy': 'rice vegetables fruits roots beans seeds', 'Rice, paddy (rice milled equivalent)': 'rice vegetables fruits roots beans seeds', 'Seed cotton': 'rice vegetables fruits roots beans seeds', 'Sesame seed': 'rice vegetables fruits roots beans seeds', 'Silk, raw': 'rice vegetables fruits roots beans seeds', 'Silk-worm cocoons, reelable': 'eggs', 'Spices nes': 'rice vegetables fruits roots beans seeds', 'Sugar cane': 'rice vegetables fruits roots beans seeds', 'Sunflower seed': 'rice vegetables fruits roots beans seeds', 'Beans, green': 'rice vegetables fruits roots beans seeds', 'Broad beans, horse beans, dry': 'rice vegetables fruits roots beans seeds', 'Chestnut': 'goat milk', 'Chillies and peppers, green': 'rice vegetables fruits roots beans seeds', 'Dates': 'rice vegetables fruits roots beans seeds', 'Eggplants (aubergines)': 'rice vegetables fruits roots beans seeds', 'Hops': 'rice vegetables fruits roots beans seeds', 'Leeks, other alliaceous vegetables': 'rice vegetables fruits roots beans seeds', 'Lemons and limes': 'rice vegetables fruits roots beans seeds', 'Lettuce and chicory': 'rice vegetables fruits roots beans seeds', 'Meat nes': 'chicken meat', 'Meat, turkey': 'chicken meat', 'Milk, whole fresh buffalo': 'buffalo milk', 'Oil, groundnut': 'rice vegetables fruits roots beans seeds', 'Oil, soybean': 'rice vegetables fruits roots beans seeds', 'Okra': 'rice vegetables fruits roots beans seeds', 'Onions, shallots, green': 'rice vegetables fruits roots beans seeds', 'Pumpkins, squash and gourds': 'rice vegetables fruits roots beans seeds', 'Sorghum': 'rice vegetables fruits roots beans seeds', 'Soybeans': 'rice vegetables fruits roots beans seeds', 'Spinach': 'rice vegetables fruits roots beans seeds', 'Strawberries': 'rice vegetables fruits roots beans seeds', 'Tangerines, mandarins, clementines, satsumas': 'rice vegetables fruits roots beans seeds', 'Vegetables, leguminous nes': 'rice vegetables fruits roots beans seeds', 'Vetches': 'cereal', 'Artichokes': 'rice vegetables fruits roots beans seeds', 'Bananas': 'rice vegetables fruits roots beans seeds', 'Carobs': '', 'Cheese, skimmed cow milk': 'cow milk cows milk', 'Chick peas': 'rice vegetables fruits roots beans seeds', 'Chillies and peppers, dry': 'rice vegetables fruits roots beans seeds', 'Grapefruit (inc. pomelos)': 'rice vegetables fruits roots beans seeds', 'Groundnuts, with shell': 'rice vegetables fruits roots beans seeds', 'Meat, horse': 'beef cow meat', 'Meat, rabbit': 'goat meat', 'Offals, horses': 'sheep milk', 'Oil, rapeseed': 'rice vegetables fruits roots beans seeds', 'Oil, safflower': 'rice vegetables fruits roots beans seeds', 'Rapeseed': 'rice vegetables fruits roots beans seeds', 'Triticale': '', 'Bastfibres, other': 'rice vegetables fruits roots beans seeds', 'Beeswax': 'goat milk', 'Cashew nuts, with shell': 'rice vegetables fruits roots beans seeds', 'Cassava': 'rice vegetables fruits roots beans seeds', 'Castor oil seed': 'rice vegetables fruits roots beans seeds', 'Cocoa, beans': 'rice vegetables fruits roots beans seeds', 'Coffee, green': 'rice vegetables fruits roots beans seeds', 'Lard': 'pig meat pork', 'Oil palm fruit': 'rice vegetables fruits roots beans seeds', 'Oil, palm': 'rice vegetables fruits roots beans seeds', 'Oil, palm kernel': 'rice vegetables fruits roots beans seeds', 'Palm kernels': 'rice vegetables fruits roots beans seeds', 'Pineapples': 'rice vegetables fruits roots beans seeds', 'Sisal': 'rice vegetables fruits roots beans seeds', 'Sweet potatoes': 'rice vegetables fruits roots beans seeds', 'Mangoes, mangosteens, guavas': 'rice vegetables fruits roots beans seeds', 'Taro (cocoyam)': 'rice vegetables fruits roots beans seeds', 'Yams': 'rice vegetables fruits roots beans seeds', 'Asparagus': 'rice vegetables fruits roots beans seeds', 'Avocados': 'rice vegetables fruits roots beans seeds', 'Canary seed': 'rice vegetables fruits roots beans seeds', 'Cream fresh': 'goat milk', 'Evaporat&Condensed Milk': 'cow milk cows milk', 'Fibre crops nes': 'rice vegetables fruits roots beans seeds', 'Flax fibre and tow': 'rice vegetables fruits roots beans seeds', 'Ghee, butteroil of cow milk': 'cow milk cows milk', 'Lupins': 'rice vegetables fruits roots beans seeds', 'Maté': 'rice vegetables fruits roots beans seeds', 'Meat, ass': 'beef cow meat', 'Meat, duck': 'chicken meat', 'Meat, goose and guinea fowl': 'pig meat pork', 'Meat, mule': 'goat meat', 'Milk, skimmed dried': 'goat milk', 'Milk, whole condensed': 'goat milk', 'Milk, whole dried': 'goat milk', 'Milk, whole evaporated': 'cow milk cows milk', 'Oil, maize': 'rice vegetables fruits roots beans seeds', 'Oilseeds nes': 'cereal', 'Papayas': 'rice vegetables fruits roots beans seeds', 'Peppermint': 'goat milk', 'Safflower seed': 'rice vegetables fruits roots beans seeds', 'Skim Milk&Buttermilk,Dry': 'buffalo milk', 'String beans': 'rice vegetables fruits roots beans seeds', 'Tallow': 'beef cow meat', 'Tea': 'rice vegetables fruits roots beans seeds', 'Tung nuts': 'rice vegetables fruits roots beans seeds', 'Whey, dry': 'goat milk', 'Blueberries': 'rice vegetables fruits roots beans seeds', 'Cow peas, dry': 'rice vegetables fruits roots beans seeds', 'Currants': 'rice vegetables fruits roots beans seeds', 'Kiwi fruit': 'rice vegetables fruits roots beans seeds', 'Maize, green': 'rice vegetables fruits roots beans seeds', 'Milk, dry buttermilk': 'goat milk', 'Milk, skimmed condensed': 'cow milk cows milk', 'Mustard seed': 'rice vegetables fruits roots beans seeds', 'Oil, coconut (copra)': 'rice vegetables fruits roots beans seeds', 'Persimmons': 'rice vegetables fruits roots beans seeds', 'Raspberries': 'rice vegetables fruits roots beans seeds', 'Buckwheat': 'rice vegetables fruits roots beans seeds', 'Gooseberries': 'rice vegetables fruits roots beans seeds', 'Grain, mixed': 'rice vegetables fruits roots beans seeds', 'Hemp tow waste': 'sheep milk', 'Poppy seed': 'rice vegetables fruits roots beans seeds', 'Whey, condensed': 'goat milk', 'Coconuts': 'rice vegetables fruits roots beans seeds', 'Pigeon peas': 'rice vegetables fruits roots beans seeds', 'Plantains and others': 'rice vegetables fruits roots beans seeds', 'Chicory roots': 'rice vegetables fruits roots beans seeds', 'Yoghurt': 'goat milk', 'Areca nuts': 'rice vegetables fruits roots beans seeds', 'Butter, buffalo milk': 'buffalo milk', 'Coir': 'rice vegetables fruits roots beans seeds', 'Fat, buffaloes': 'buffalo milk', 'Ghee, buffalo milk': 'buffalo milk', 'Ginger': 'rice vegetables fruits roots beans seeds', 'Hides, buffalo, fresh': 'buffalo meat', 'Jute': 'rice vegetables fruits roots beans seeds', 'Meat, buffalo': 'buffalo meat', 'Offals, edible, buffaloes': 'buffalo milk', 'Rubber, natural': 'rice vegetables fruits roots beans seeds', 'Sugar crops nes': 'rice vegetables fruits roots beans seeds', 'Nutmeg, mace and cardamoms': 'rice vegetables fruits roots beans seeds', 'Roots and tubers nes': 'rice vegetables fruits roots beans seeds', 'Brazil nuts, with shell': 'rice vegetables fruits roots beans seeds', 'Meat, other camelids': 'goat meat', 'Meat, other rodents': 'chicken meat', 'Pepper (piper spp.)': 'rice vegetables fruits roots beans seeds', 'Pyrethrum, dried': 'rice vegetables fruits roots beans seeds', 'Quinoa': 'rice vegetables fruits roots beans seeds', 'Cashewapple': '', 'Gums, natural': 'rice vegetables fruits roots beans seeds', 'Ramie': 'rice vegetables fruits roots beans seeds', 'Yautia (cocoyam)': 'pig meat pork', 'Cranberries': 'rice vegetables fruits roots beans seeds', 'Fruit, pome nes': 'rice vegetables fruits roots beans seeds', 'Hempseed': 'cereal', 'Meat, bird nes': 'chicken meat', 'Melonseed': '', 'Bambara beans': 'rice vegetables fruits roots beans seeds', 'Kola nuts': 'rice vegetables fruits roots beans seeds', 'Milk, skimmed evaporated': 'cow milk cows milk', 'Cinnamon (cannella)': 'goat milk', 'Cloves': 'rice vegetables fruits roots beans seeds', 'Cheese, buffalo milk': 'buffalo milk', 'Tallowtree seed': 'rice vegetables fruits roots beans seeds', 'Vanilla': 'goat milk', 'Agave fibres nes': 'rice vegetables fruits roots beans seeds', 'Cassava leaves': 'rice vegetables fruits roots beans seeds', 'Manila fibre (abaca)': 'rice vegetables fruits roots beans seeds', 'Fonio': '', 'Karite nuts (sheanuts)': 'rice vegetables fruits roots beans seeds', 'Kapok fibre': 'rice vegetables fruits roots beans seeds', 'Kapok fruit': 'rice vegetables fruits roots beans seeds', 'Kapokseed in shell': 'rice vegetables fruits roots beans seeds', 'Snails, not sea': 'rice vegetables fruits roots beans seeds', 'Jojoba seed': 'rice vegetables fruits roots beans seeds'}\n"
     ]
    }
   ],
   "source": [
    "for i in range( len(productset) ):\n",
    "    \n",
    "    max = 0;\n",
    "    correlate[ productset[i] ] = \"\"\n",
    "\n",
    "    for j in range ( len(emissions) ):\n",
    "\n",
    "        product = nlp( productset[i] )\n",
    "        emission = nlp( emissions[j] )\n",
    "            \n",
    "        n = product.similarity(emission) \n",
    "        \n",
    "        if ( n > max  ):\n",
    "            max = n \n",
    "            correlate[ productset[i] ] = emissions[j]\n",
    "    \n",
    "print( correlate )"
   ]
  },
  {
   "cell_type": "code",
   "execution_count": null,
   "id": "307dd3cf",
   "metadata": {},
   "outputs": [],
   "source": []
  },
  {
   "cell_type": "code",
   "execution_count": null,
   "id": "4d00244f",
   "metadata": {},
   "outputs": [],
   "source": []
  }
 ],
 "metadata": {
  "kernelspec": {
   "display_name": "Python 3",
   "language": "python",
   "name": "python3"
  },
  "language_info": {
   "codemirror_mode": {
    "name": "ipython",
    "version": 3
   },
   "file_extension": ".py",
   "mimetype": "text/x-python",
   "name": "python",
   "nbconvert_exporter": "python",
   "pygments_lexer": "ipython3",
   "version": "3.7.3"
  }
 },
 "nbformat": 4,
 "nbformat_minor": 5
}
