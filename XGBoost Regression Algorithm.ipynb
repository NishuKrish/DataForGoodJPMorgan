{
 "cells": [
  {
   "cell_type": "code",
   "execution_count": 1,
   "id": "2eb122bc-4228-4158-abc0-5bd2d8ad184a",
   "metadata": {},
   "outputs": [],
   "source": [
    "import xgboost\n",
    "import numpy as np\n",
    "import pandas as pd"
   ]
  },
  {
   "cell_type": "code",
   "execution_count": 2,
   "id": "fd08a0bc-a53f-45e4-8eb9-c3c2740e1f7b",
   "metadata": {},
   "outputs": [],
   "source": [
    "from pandas import read_csv\n",
    "from matplotlib import pyplot\n",
    "\n",
    "from sklearn.model_selection import cross_val_score\n",
    "from sklearn.model_selection import RepeatedKFold\n",
    "from sklearn.model_selection import train_test_split\n",
    "from sklearn.metrics import mean_squared_error\n",
    "from sklearn.metrics import mean_absolute_error\n",
    "from xgboost import XGBRegressor \n",
    "from sklearn.linear_model import LinearRegression"
   ]
  },
  {
   "cell_type": "code",
   "execution_count": 3,
   "id": "0f414bd0-a886-4804-a426-ba3681f06190",
   "metadata": {},
   "outputs": [],
   "source": [
    "# training the model on the existing data"
   ]
  },
  {
   "cell_type": "code",
   "execution_count": 4,
   "id": "ec6fe9ad-df54-4c32-96a7-8284d78a8fa1",
   "metadata": {},
   "outputs": [
    {
     "name": "stdout",
     "output_type": "stream",
     "text": [
      "(1871, 61)\n"
     ]
    }
   ],
   "source": [
    "url = \"datasets/nourishment_data.csv\"\n",
    "dataframe = read_csv(url, header=None)\n",
    "data = dataframe.values\n",
    "\n",
    "print(dataframe.shape)\n",
    "# print(dataframe.head())"
   ]
  },
  {
   "cell_type": "code",
   "execution_count": 5,
   "id": "2245fee7",
   "metadata": {},
   "outputs": [],
   "source": [
    "'''\n",
    "# Poverty Data\n",
    "X = data[1:, 6:]\n",
    "y = data[1:, 5]\n",
    "\n",
    "X = np.delete(X, 50, 1)\n",
    "X = np.delete(X, 50, 1)\n",
    "X = np.delete(X, 50, 1)\n",
    "X = np.delete(X, [13, 15], 1)\n",
    "X = np.delete(X, [28, 33], 1)\n",
    "X = np.delete(X, 1, 1)\n",
    "X = np.delete(X, 1, 1)\n",
    "\n",
    "print(X)\n",
    "# removing percentage sign \n",
    "for i in range(y.size):\n",
    "    new_str = (y[i])[:-1]\n",
    "    y[i] = new_str\n",
    "'''\n",
    "\n",
    "# Nourishment Data:\n",
    "X = data[1:, 12:]\n",
    "y = data[1:, 5]\n",
    "\n",
    "X = np.delete(X, [5, 7], 1)\n",
    "\n",
    "for i in range(y.size):\n",
    "    if (y[i]) == '<2.5':\n",
    "        y[i] = 1.0\n"
   ]
  },
  {
   "cell_type": "code",
   "execution_count": 10,
   "id": "390db6ff",
   "metadata": {},
   "outputs": [
    {
     "name": "stdout",
     "output_type": "stream",
     "text": [
      "[['10470921.0' '0.435' '1.002' ... '398.7011' '2.5591' '155799.0']\n",
      " ['3033998.0' '0.436' '1.487' ... nan nan nan]\n",
      " ['1215677.0' '0.292' '0.575' ... nan nan nan]\n",
      " ...\n",
      " ['5461411.0' '0.987' '2.609' ... nan nan nan]\n",
      " ['34663603.0' '0.483' '1.256' ... '196.6482' '3.1067' '63298.0']\n",
      " ['10586533.0' nan '0.806' ... nan nan nan]]\n"
     ]
    }
   ],
   "source": [
    "# split into training and testing data\n",
    "seed = 10\n",
    "test_size = 0.33\n",
    "X_train, X_test, y_train, y_test = train_test_split(X, y, test_size=test_size, random_state=seed)\n",
    "print(X_train)"
   ]
  },
  {
   "cell_type": "code",
   "execution_count": 11,
   "id": "9968fb4a-4880-4ada-8780-07afc905da58",
   "metadata": {},
   "outputs": [
    {
     "data": {
      "text/plain": [
       "XGBRegressor(base_score=0.5, booster='gbtree', colsample_bylevel=1,\n",
       "             colsample_bynode=1, colsample_bytree=1, gamma=0, gpu_id=-1,\n",
       "             importance_type='gain', interaction_constraints='',\n",
       "             learning_rate=0.300000012, max_delta_step=0, max_depth=6,\n",
       "             min_child_weight=1, missing=nan, monotone_constraints='()',\n",
       "             n_estimators=100, n_jobs=8, num_parallel_tree=1, random_state=0,\n",
       "             reg_alpha=0, reg_lambda=1, scale_pos_weight=1, subsample=1,\n",
       "             tree_method='exact', validate_parameters=1, verbosity=None)"
      ]
     },
     "execution_count": 11,
     "metadata": {},
     "output_type": "execute_result"
    }
   ],
   "source": [
    "model = XGBRegressor()\n",
    "model.fit(X_train, y_train)\n",
    "\n",
    "# print(model)"
   ]
  },
  {
   "cell_type": "code",
   "execution_count": 14,
   "id": "c72137b7",
   "metadata": {},
   "outputs": [
    {
     "name": "stdout",
     "output_type": "stream",
     "text": [
      "3.8466120681432048\n"
     ]
    }
   ],
   "source": [
    "# make predictions for test data\n",
    "y_pred = model.predict(X_test)\n",
    "# predictions = [round(value) for value in y_pred]\n",
    "\n",
    "# evaluate predictions\n",
    "error = mean_squared_error(y_test, y_pred)\n",
    "print(error)"
   ]
  },
  {
   "cell_type": "code",
   "execution_count": 76,
   "id": "d4183473",
   "metadata": {},
   "outputs": [
    {
     "data": {
      "text/plain": [
       "<Figure size 432x288 with 0 Axes>"
      ]
     },
     "metadata": {},
     "output_type": "display_data"
    },
    {
     "data": {
      "image/png": "[encoded data removed]",
      "text/plain": [
       "<Figure size 432x288 with 1 Axes>"
      ]
     },
     "metadata": {
      "needs_background": "light"
     },
     "output_type": "display_data"
    },
    {
     "data": {
      "image/png": "[encoded data removed]",
      "text/plain": [
       "<Figure size 720x360 with 1 Axes>"
      ]
     },
     "metadata": {
      "needs_background": "light"
     },
     "output_type": "display_data"
    }
   ],
   "source": [
    "# explainability\n",
    "\n",
    "# plot importance of features based on fitted trees\n",
    "pyplot.figure()\n",
    "xgboost.plot_importance(model, max_num_features=10)\n",
    "\n",
    "pyplot.figure(figsize=[10, 5])\n",
    "csfont = {'fontname':'Helvetica'}\n",
    "\n",
    "pyplot.bar(range(len(model.feature_importances_)), model.feature_importances_)\n",
    "pyplot.title('Feature Importance',**csfont)\n",
    "pyplot.xlabel('Feature Column', **csfont)\n",
    "pyplot.savefig('nourish.png')\n",
    "pyplot.show()\n"
   ]
  },
  {
   "cell_type": "code",
   "execution_count": null,
   "id": "89327731-690f-4ce0-9d8a-ccc52504436e",
   "metadata": {},
   "outputs": [],
   "source": [
    "# using the model to predict new values on new data"
   ]
  },
  {
   "cell_type": "code",
   "execution_count": 19,
   "id": "622de042-50aa-4001-8d29-2d300d3002c3",
   "metadata": {},
   "outputs": [
    {
     "data": {
      "text/plain": [
       "XGBRegressor(base_score=0.5, booster='gbtree', colsample_bylevel=1,\n",
       "             colsample_bynode=1, colsample_bytree=1, gamma=0, gpu_id=-1,\n",
       "             importance_type='gain', interaction_constraints='',\n",
       "             learning_rate=0.300000012, max_delta_step=0, max_depth=6,\n",
       "             min_child_weight=1, missing=nan, monotone_constraints='()',\n",
       "             n_estimators=100, n_jobs=8, num_parallel_tree=1, random_state=0,\n",
       "             reg_alpha=0, reg_lambda=1, scale_pos_weight=1, subsample=1,\n",
       "             tree_method='exact', validate_parameters=1, verbosity=None)"
      ]
     },
     "execution_count": 19,
     "metadata": {},
     "output_type": "execute_result"
    }
   ],
   "source": [
    "model=XGBRegressor()\n",
    "model.fit(X, y)"
   ]
  },
  {
   "cell_type": "code",
   "execution_count": 44,
   "id": "24be1e25-c7a0-449d-993d-a30f3c5f836a",
   "metadata": {},
   "outputs": [
    {
     "name": "stdout",
     "output_type": "stream",
     "text": [
      "Predicted: 28.629\n"
     ]
    }
   ],
   "source": [
    "# new data\n",
    "\n",
    "new_data = X[1038, :]\n",
    "for i in [12, 39, 42]:\n",
    "    if not pd.isnull(new_data[i]):\n",
    "        new_data[i]=str(float(new_data[i])*1.05)\n",
    "    else:\n",
    "        new_data[i] = new_data[i]\n",
    "new_data = np.asarray([new_data])\n",
    "yhat = model.predict(new_data)\n",
    "print('Predicted: %.3f' % yhat)"
   ]
  },
  {
   "cell_type": "code",
   "execution_count": null,
   "id": "993ff070-5f46-4286-9fcd-53f4f26d53a6",
   "metadata": {},
   "outputs": [],
   "source": []
  }
 ],
 "metadata": {
  "kernelspec": {
   "display_name": "Python 3",
   "language": "python",
   "name": "python3"
  },
  "language_info": {
   "codemirror_mode": {
    "name": "ipython",
    "version": 3
   },
   "file_extension": ".py",
   "mimetype": "text/x-python",
   "name": "python",
   "nbconvert_exporter": "python",
   "pygments_lexer": "ipython3",
   "version": "3.7.3"
  }
 },
 "nbformat": 4,
 "nbformat_minor": 5
}
