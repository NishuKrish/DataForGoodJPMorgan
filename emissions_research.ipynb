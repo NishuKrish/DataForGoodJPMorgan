{
 "cells": [
  {
   "cell_type": "code",
   "execution_count": 58,
   "id": "f3f17cc5",
   "metadata": {},
   "outputs": [],
   "source": [
    "# Necessary dependencies:\n",
    "# Pandas, Numpy, Spacy\n",
    "\n",
    "import pandas as pd \n",
    "import numpy\n",
    "import matplotlib.pyplot as plt\n",
    "\n",
    "# Clean clean clean \n",
    "\n",
    "emissions = pd.read_csv('shared_data_read_only/Agriculture Dataset.csv')\n",
    "emissions.drop( emissions.index[emissions['Year'] != 2017], inplace=True )\n",
    "\n",
    "emissions = emissions.iloc[: , 4:]\n",
    "emissions.drop( columns=['Population','Temperature change °C', 'Standard Deviation °C', 'Farm-gate emissions - Emissions (CO2eq) (AR5) - kilotonnes', 'Food Transport - Emissions (CO2eq) (AR5) - kilotonnes', 'Waste - Emissions (CO2eq) (AR5) - kilotonnes'],  inplace=True )\n",
    "\n",
    "emissions.drop(list(emissions.filter(regex = 'intensity')), axis = 1, inplace = True)\n",
    "emissions.drop(list(emissions.filter(regex = 'Production')), axis = 1, inplace = True)\n",
    "emissions = emissions.dropna()\n",
    "\n",
    "# print(emissions)\n",
    "# make a df of emissions / population"
   ]
  },
  {
   "cell_type": "code",
   "execution_count": 64,
   "id": "2a3f6675",
   "metadata": {},
   "outputs": [
    {
     "name": "stdout",
     "output_type": "stream",
     "text": [
      "{'Cereals excluding rice': 0.010917251692869862, 'Eggs, hen, in shell': 0.001411083413110091, 'Meat, buffalo': 0.011491081470689456, 'Meat, cattle': 0.0715956264121756, 'Meat, chicken': 0.0016308827104138642, 'Meat, goat': 0.014153664229934991, 'Meat, pig': 0.0034103467033482853, 'Meat, sheep': 0.011380078093167911, 'Milk, whole fresh buffalo': 0.00595727458745837, 'Milk, whole fresh camel': 0.0013974681446370582, 'Milk, whole fresh cow': 0.033292697869498705, 'Milk, whole fresh goat': 0.005083867524098972, 'Milk, whole fresh sheep': 0.00390807455604298, 'Rice, paddy': 0.025205580219662217}\n"
     ]
    }
   ],
   "source": [
    "ecol = []\n",
    "ref = emissions['GDP  (2015 US$, mil)']\n",
    "\n",
    "for i in range ( len (emissions) - 1):\n",
    "    ecol.append ( emissions.iloc[:, i] / ref )\n",
    "\n",
    "means = dict()\n",
    "ecoln = list(emissions.columns.values.tolist())\n",
    "\n",
    "emissions[1:]\n",
    "\n",
    "for j in range ( 1, len (emissions) - 1):\n",
    "    str = ecoln[j]\n",
    "    means[ str[0:len(str)-29] ] = ( ecol[j].mean() ) \n",
    "\n",
    "dict(sorted(means.items(), key=lambda item: item[1]))\n",
    "\n",
    "\n",
    "\n",
    "\n",
    "print(means)"
   ]
  },
  {
   "cell_type": "code",
   "execution_count": 70,
   "id": "dfb9c7ea",
   "metadata": {},
   "outputs": [
    {
     "data": {
      "image/png": "[encoded data removed]",
      "text/plain": [
       "<Figure size 432x288 with 1 Axes>"
      ]
     },
     "metadata": {
      "needs_background": "light"
     },
     "output_type": "display_data"
    }
   ],
   "source": [
    "# make data:\n",
    "\n",
    "names = list( means.keys() )\n",
    "values = list( means.values() )\n",
    "\n",
    "plt.bar(range(len(means)), values, tick_label=names)\n",
    "\n",
    "plt.xticks(range(len(means.values())), means.keys(), rotation=90)\n",
    "plt.tight_layout()\n",
    "plt.xlabel('Product Category')\n",
    "plt.ylabel('Emissions/GDP')\n",
    "\n",
    "plt.show()"
   ]
  },
  {
   "cell_type": "code",
   "execution_count": null,
   "id": "c509b4df",
   "metadata": {},
   "outputs": [],
   "source": []
  }
 ],
 "metadata": {
  "kernelspec": {
   "display_name": "Python 3",
   "language": "python",
   "name": "python3"
  },
  "language_info": {
   "codemirror_mode": {
    "name": "ipython",
    "version": 3
   },
   "file_extension": ".py",
   "mimetype": "text/x-python",
   "name": "python",
   "nbconvert_exporter": "python",
   "pygments_lexer": "ipython3",
   "version": "3.7.3"
  }
 },
 "nbformat": 4,
 "nbformat_minor": 5
}
